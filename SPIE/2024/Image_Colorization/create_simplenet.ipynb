{
 "cells": [
  {
   "cell_type": "code",
   "execution_count": 27,
   "metadata": {},
   "outputs": [],
   "source": [
    "from tensorflow import keras\n",
    "import tensorflow as tf\n",
    "from tensorflow.keras.datasets import cifar100\n",
    "from keras.preprocessing.image import ImageDataGenerator\n",
    "from sklearn.model_selection import train_test_split\n",
    "import matplotlib.pyplot as plt\n",
    "import numpy as np\n",
    "import csv\n",
    "from PIL import Image\n",
    "from tensorflow.keras.optimizers import Adam\n",
    "from tensorflow.keras.losses import BinaryCrossentropy\n",
    "from tensorflow.keras.metrics import binary_accuracy\n",
    "import pandas as pd\n",
    "\n",
    "tf.random.set_seed(15) # 1 tf 40 np = 32 tops\n",
    "np.random.seed(40)"
   ]
  },
  {
   "cell_type": "code",
   "execution_count": 2,
   "metadata": {},
   "outputs": [
    {
     "name": "stdout",
     "output_type": "stream",
     "text": [
      "C:\\Users\\ivann\n"
     ]
    },
    {
     "name": "stderr",
     "output_type": "stream",
     "text": [
      "c:\\Users\\ivann\\anaconda3\\envs\\deep_learning\\Lib\\site-packages\\IPython\\core\\magics\\osm.py:393: UserWarning: This is now an optional IPython functionality, using bookmarks requires you to install the `pickleshare` library.\n",
      "  bkms = self.shell.db.get('bookmarks', {})\n",
      "c:\\Users\\ivann\\anaconda3\\envs\\deep_learning\\Lib\\site-packages\\IPython\\core\\magics\\osm.py:428: UserWarning: This is now an optional IPython functionality, setting dhist requires you to install the `pickleshare` library.\n",
      "  self.shell.db['dhist'] = compress_dhist(dhist)[-100:]\n"
     ]
    }
   ],
   "source": [
    "cd"
   ]
  },
  {
   "cell_type": "code",
   "execution_count": 28,
   "metadata": {},
   "outputs": [
    {
     "name": "stdout",
     "output_type": "stream",
     "text": [
      "[WinError 3] The system cannot find the path specified: '.\\\\Documents\\\\School\\\\8vo. Semestre\\\\Deep Learning'\n",
      "C:\\Users\\ivann\\Documents\\School\\8vo. Semestre\\Deep Learning\n"
     ]
    },
    {
     "name": "stderr",
     "output_type": "stream",
     "text": [
      "c:\\Users\\ivann\\anaconda3\\envs\\deep_learning\\Lib\\site-packages\\IPython\\core\\magics\\osm.py:393: UserWarning: This is now an optional IPython functionality, using bookmarks requires you to install the `pickleshare` library.\n",
      "  bkms = self.shell.db.get('bookmarks', {})\n"
     ]
    }
   ],
   "source": [
    "cd \".\\Documents\\School\\8vo. Semestre\\Deep Learning\""
   ]
  },
  {
   "cell_type": "code",
   "execution_count": 29,
   "metadata": {},
   "outputs": [],
   "source": [
    "images = []\n",
    "target = []\n",
    "with open('./Image_Processing/Image_Classifier/dataset_64x64.csv', newline='') as csvfile:\n",
    "    dataset = csv.reader(csvfile, delimiter=',')\n",
    "    for i, row in enumerate(dataset):\n",
    "        if i > 0:\n",
    "            if row[0] == 'landscape':\n",
    "\n",
    "                # image\n",
    "                image_path = f'./Dataset/dataset/landscape_dat/landscape_64x64_bw/{row[1]}'\n",
    "\n",
    "            if row[0] == 'imagenet':\n",
    "\n",
    "                # image\n",
    "                image_path = f'./Dataset/dataset/imagenet/imagenet_64x64_bw/{row[1]}'\n",
    "\n",
    "            image = Image.open(image_path)\n",
    "            data = np.asarray(image)\n",
    "            images.append(data)\n",
    "\n",
    "            #classification target\n",
    "            if row[2]=='siggraph_2016':\n",
    "                target.append(0)\n",
    "            elif row[2]=='larsson_2016':\n",
    "                target.append(1)\n",
    "            elif row[2]=='zhang_2016':\n",
    "                target.append(2)\n",
    "            elif row[2]=='ddcolor':\n",
    "                target.append(3)\n",
    "            else:\n",
    "                print(row)\n",
    "                x = input(\"Enter\")\n",
    "\n",
    "images = np.array(images)\n",
    "target = np.array(target)"
   ]
  },
  {
   "cell_type": "code",
   "execution_count": 30,
   "metadata": {},
   "outputs": [
    {
     "name": "stdout",
     "output_type": "stream",
     "text": [
      "(15328, 64, 64)\n",
      "(15328, 64, 64, 3)\n",
      "(15328,)\n"
     ]
    }
   ],
   "source": [
    "print(images.shape)\n",
    "rgb_batch = np.repeat(images[..., np.newaxis], 3, -1)\n",
    "print(rgb_batch.shape)\n",
    "print(target.shape)"
   ]
  },
  {
   "cell_type": "code",
   "execution_count": 31,
   "metadata": {},
   "outputs": [],
   "source": [
    "X_train, X_test, y_train, y_test = train_test_split(rgb_batch, target, test_size=0.1, random_state=1)\n",
    "\n",
    "X_train, X_val, y_train, y_val = train_test_split(X_train, y_train, test_size=0.1, random_state=1)"
   ]
  },
  {
   "cell_type": "code",
   "execution_count": 32,
   "metadata": {},
   "outputs": [],
   "source": [
    "X_train, X_val, X_test = X_train / 255., X_val / 255., X_test / 255."
   ]
  },
  {
   "cell_type": "code",
   "execution_count": 33,
   "metadata": {},
   "outputs": [
    {
     "name": "stdout",
     "output_type": "stream",
     "text": [
      "(12415, 64, 64, 3)\n",
      "(1380, 64, 64, 3)\n",
      "(1533, 64, 64, 3)\n"
     ]
    }
   ],
   "source": [
    "print(X_train.shape)\n",
    "print(X_val.shape)\n",
    "print(X_test.shape)"
   ]
  },
  {
   "cell_type": "code",
   "execution_count": 34,
   "metadata": {},
   "outputs": [
    {
     "name": "stdout",
     "output_type": "stream",
     "text": [
      "[6277 1395 1965 2778]\n",
      "12415\n"
     ]
    }
   ],
   "source": [
    "print(np.bincount(y_train))\n",
    "print(len(y_train))"
   ]
  },
  {
   "cell_type": "code",
   "execution_count": 35,
   "metadata": {},
   "outputs": [],
   "source": [
    "X_train_equal = []\n",
    "y_train_equal = []\n",
    "ids = np.arange(12415)\n",
    "for c in range(4):\n",
    "    class_id = ids[y_train == c]\n",
    "    choice = np.random.choice(class_id, 1395, replace=False)\n",
    "    X_train_equal.append(X_train[choice])\n",
    "    y_train_equal.append(y_train[choice])\n",
    "X_train_equal = np.array(X_train_equal)\n",
    "y_train_equal = np.array(y_train_equal)"
   ]
  },
  {
   "cell_type": "code",
   "execution_count": 36,
   "metadata": {},
   "outputs": [
    {
     "name": "stdout",
     "output_type": "stream",
     "text": [
      "(5580,)\n",
      "(5580, 64, 64, 3)\n"
     ]
    }
   ],
   "source": [
    "y_train_equal = np.concatenate((y_train_equal))\n",
    "X_train_equal = np.concatenate((X_train_equal))\n",
    "print(y_train_equal.shape)\n",
    "print(X_train_equal.shape)"
   ]
  },
  {
   "cell_type": "code",
   "execution_count": 37,
   "metadata": {},
   "outputs": [
    {
     "name": "stdout",
     "output_type": "stream",
     "text": [
      "[655 155 253 317]\n",
      "1380\n"
     ]
    }
   ],
   "source": [
    "print(np.bincount(y_val))\n",
    "print(len(y_val))"
   ]
  },
  {
   "cell_type": "code",
   "execution_count": 38,
   "metadata": {},
   "outputs": [],
   "source": [
    "X_val_equal = []\n",
    "y_val_equal = []\n",
    "ids = np.arange(1380)\n",
    "for c in range(4):\n",
    "    class_id = ids[y_val == c]\n",
    "    choice = np.random.choice(class_id, 155, replace=False)\n",
    "    X_val_equal.append(X_val[choice])\n",
    "    y_val_equal.append(y_val[choice])\n",
    "X_val_equal = np.array(X_val_equal)\n",
    "y_val_equal = np.array(y_val_equal)"
   ]
  },
  {
   "cell_type": "code",
   "execution_count": 39,
   "metadata": {},
   "outputs": [
    {
     "name": "stdout",
     "output_type": "stream",
     "text": [
      "(620,)\n",
      "(620, 64, 64, 3)\n"
     ]
    }
   ],
   "source": [
    "y_val_equal = np.concatenate((y_val_equal))\n",
    "X_val_equal = np.concatenate((X_val_equal))\n",
    "print(y_val_equal.shape)\n",
    "print(X_val_equal.shape)"
   ]
  },
  {
   "cell_type": "code",
   "execution_count": 40,
   "metadata": {},
   "outputs": [
    {
     "name": "stdout",
     "output_type": "stream",
     "text": [
      "[791 175 227 340]\n",
      "1533\n"
     ]
    }
   ],
   "source": [
    "print(np.bincount(y_test))\n",
    "print(len(y_test))"
   ]
  },
  {
   "cell_type": "code",
   "execution_count": 41,
   "metadata": {},
   "outputs": [],
   "source": [
    "X_test_equal = []\n",
    "y_test_equal = []\n",
    "ids = np.arange(1533)\n",
    "for c in range(4):\n",
    "    class_id = ids[y_test == c]\n",
    "    choice = np.random.choice(class_id, 175 , replace=False)\n",
    "    X_test_equal.append(X_test[choice])\n",
    "    y_test_equal.append(y_test[choice])\n",
    "X_test_equal = np.array(X_test_equal)\n",
    "y_test_equal = np.array(y_test_equal)"
   ]
  },
  {
   "cell_type": "code",
   "execution_count": 42,
   "metadata": {},
   "outputs": [
    {
     "name": "stdout",
     "output_type": "stream",
     "text": [
      "(700,)\n",
      "(700, 64, 64, 3)\n"
     ]
    }
   ],
   "source": [
    "y_test_equal = np.concatenate((y_test_equal))\n",
    "X_test_equal = np.concatenate((X_test_equal))\n",
    "print(y_test_equal.shape)\n",
    "print(X_test_equal.shape)"
   ]
  },
  {
   "cell_type": "code",
   "execution_count": null,
   "metadata": {},
   "outputs": [],
   "source": []
  }
 ],
 "metadata": {
  "kernelspec": {
   "display_name": "deep_learning",
   "language": "python",
   "name": "python3"
  },
  "language_info": {
   "codemirror_mode": {
    "name": "ipython",
    "version": 3
   },
   "file_extension": ".py",
   "mimetype": "text/x-python",
   "name": "python",
   "nbconvert_exporter": "python",
   "pygments_lexer": "ipython3",
   "version": "3.11.9"
  }
 },
 "nbformat": 4,
 "nbformat_minor": 2
}
